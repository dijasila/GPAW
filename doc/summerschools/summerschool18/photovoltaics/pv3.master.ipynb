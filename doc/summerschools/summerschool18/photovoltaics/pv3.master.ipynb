{
 "cells": [
  {
   "cell_type": "markdown",
   "metadata": {},
   "source": [
    "Now, we will finally visualize the absorption spectra we have calculated. The script below is setup for plotting and saving the absorption spectra for BN with 24x24x1 k-points. First we load the x, y, and z components and plot all three curves in different colors."
   ]
  },
  {
   "cell_type": "code",
   "execution_count": null,
   "metadata": {},
   "outputs": [],
   "source": [
    "#Plot the absorption spectrum:\n",
    "plt.figure()\n",
    "\n",
    "absox = np.loadtxt('BN_24x24x1_rpa_x.csv', delimiter=',')\n",
    "absoy = np.loadtxt('BN_24x24x1_rpa_y.csv', delimiter=',')\n",
    "absoz = np.loadtxt('BN_24x24x1_rpa_z.csv', delimiter=',')\n",
    "plt.plot(absox[:, 0], absox[:, 4], label='RPA_x BN 24x24x1', lw=2, color='b')\n",
    "\n",
    "abso = np.loadtxt('BN_24x24x1_rpa_y.csv', delimiter=',')\n",
    "plt.plot(absoy[:, 0], absoy[:, 4], label='RPA_y BN 24x24x1', lw=2, color='r')\n",
    "\n",
    "abso = np.loadtxt('BN_24x24x1_rpa_z.csv', delimiter=',')\n",
    "plt.plot(absoz[:, 0], absoz[:, 4], label='RPA_z BN 24x24x1', lw=2, color='g')\n",
    "\n",
    "plt.xlabel(r'$\\hbar\\omega\\;[eV]$', size=20)\n",
    "plt.ylabel(r'$Im(\\epsilon)$', size=20)\n",
    "plt.xticks(size=16)\n",
    "plt.yticks(size=16)\n",
    "plt.tight_layout()\n",
    "plt.axis([0.0, 10.0, None, None])\n",
    "plt.legend()\n",
    "\n",
    "plt.savefig('BN_24x24x1.png')\n"
   ]
  },
  {
   "cell_type": "markdown",
   "metadata": {},
   "source": [
    "Now open the saved figure and inspect the absorption spectra. Does it look as you expected? Can you guess the band gap from the absorption spectra and which of the band gaps calculated on day 2 does it match? \n",
    "\n",
    "Now plot the absorption spectra for the other k-point meshes you calculated and compare. You could for instance modify the script above to plot all in the same plot for comparison. Would you say that the calculation is converged? \n",
    "\n",
    "Finally, talk with the other groups and compare your absorption spectra with their absorption spectra. Is the same number of k-points needed to obtain same degree of convergence for the different materials? Is there any difference for the 2D material (Boron-Nitride)? "
   ]
  }
 ],
 "metadata": {
  "kernelspec": {
   "display_name": "Python 3",
   "language": "python",
   "name": "python3"
  },
  "language_info": {
   "codemirror_mode": {
    "name": "ipython",
    "version": 3
   },
   "file_extension": ".py",
   "mimetype": "text/x-python",
   "name": "python",
   "nbconvert_exporter": "python",
   "pygments_lexer": "ipython3",
   "version": "3.6.4"
  }
 },
 "nbformat": 4,
 "nbformat_minor": 2
}
