{
 "cells": [
  {
   "cell_type": "markdown",
   "metadata": {},
   "source": [
    "Calculating absorption spectra\n",
    "\n",
    "In this exercise we are going to calculate the absorption spectra of the material you have considered so far.\n",
    "In general, the absorption spectrum is given by the imaginary part of the macroscopic dielectric function. This means that our computational taks is to calculate the macroscopic dielectric funciton for our material, and then plot the imaginary part. For more information about the dielectric function please consult:\n",
    "\n",
    "https://wiki.fysik.dtu.dk/gpaw/tutorials/dielectric_response/dielectric_response.html#df-tutorial\n",
    "\n",
    "To calculate the dielectric function, we will for this case use the Random Phase Approximation (RPA) correlation energy (so we say we calculate the absorption spectrum within the random phase approximation). Details about RPA can be foun here:\n",
    "\n",
    "https://wiki.fysik.dtu.dk/gpaw/documentation/xc/rpa.html#rpa\n",
    "\n",
    "\n",
    "As discussed earlier, it is of greatest importance to make sure our calculations are converged. Since the convergence parameters is not necessarily the same for band gaps and RPA absorption spectra (and any other material property) with respect to for instance plane-wave cut-off or k-points, we need to do do a new groundstate calculation with parameters. For RPA absorption spectra we will here look at the number of bands included in the calculation and the k-point mesh. We will therefore restart from the previous groundstate file, and update some of the parameters. First we will look at a too rough k-point mesh and then do more calculations with a finer k-point mesh. In this way we can see the importance of converging the calculations.\n",
    "\n",
    "The new groundstate is calculated below. "
   ]
  },
  {
   "cell_type": "code",
   "execution_count": null,
   "metadata": {},
   "outputs": [],
   "source": [
    "import os\n",
    "import numpy as np\n",
    "import gpaw as GPAW\n",
    "from gpaw.mpi import world\n",
    "from gpaw.occupations import FermiDirac\n",
    "from gpaw.response.df import DielectricFunction\n",
    "import matplotlib.pyplot as plt\n",
    "\n",
    "\n",
    "#Load ground state gpw file\n",
    "calc_old = GPAW('gs.gpw', txt=None)\n",
    "\n",
    "#Extract number of valence bands:\n",
    "nval = calc_old.wfs.nvalence\n",
    "\n",
    "#Do new ground state calculations with more k-points.\n",
    "#This is because in general RPA calculations requires more k-poins to be converged.\n",
    "\n",
    "calc = GPAW('gs.gpw', \n",
    "             fixdensity=True,\t\t\t\t#keep electron density from ground state calculation fixed\n",
    "             kpts=(24,24,1),\t\t\t\t#Number of k-points for BN\n",
    "             nbands = 4*nval,\t\t\t\t#Number of bands to include in calculation\n",
    "             convergence={'bands': 3*nval},\t\t#Number of bands to convergence\n",
    "             txt='es.txt',\n",
    "             occupations=FermiDirac(width=1e-4))\n",
    "\n",
    "\n",
    "calc.get_potential_energy()\n",
    "calc.write('BN_24x24x1.gpw', 'all')\t\t\t#'all' means we save all the wave functions to the gpw file. This is required for the rpa calculations"
   ]
  },
  {
   "cell_type": "markdown",
   "metadata": {},
   "source": [
    "Now that we have obtained the groundstate, it is time to calculate the dielectric function. This is done below where we first initialize the parameters needed for an RPA calculation, then calculate the dielectric funcition, and finally obtain the polarizability. Note that one also would have to converge the parameters initialized below, for a fully converged study, however in the interest of time and computational power we will not consider this here. The principle is however exactly the same, as you will see with the different k-point meshes we will emply here."
   ]
  },
  {
   "cell_type": "code",
   "execution_count": null,
   "metadata": {},
   "outputs": [],
   "source": [
    "#Define parameters for rpa calculations:\n",
    "kwargs = {'truncation': '2D',\t\t\t\t#Truncate the Coulomb interaction in the lateral direction to avoid non-physical interactions due to periodic boundary conditions\n",
    "          'eta': 0.05,\t\t\t\t\t#Broadening parameter\n",
    "          'domega0': 0.01,\t\t\t\t#Define spacing of frequency grid\n",
    "          'intraband': False,\t\t\t\t#In this task we do not include intraband transitions for calculating the absorption spectrum\n",
    "          'nblocks': 8,\t\t\t\t\t#Number of blocks used for parallization\n",
    "          'ecut': 50,\t\t\t\t\t#Plane wave cutoff in eV\n",
    "          'nbands': 24,\t\t\t\t\t#Number of bands included in rpa calculation\n",
    "          'name': 'chi_BN_24x24x1'}\t\t\t#Name of density response function .pckl file\n",
    "\n",
    "\n",
    "#Calculate dielectric function. Takes groundstate calculation and defined parameters in \"kwargs\" as input:\n",
    "df = DielectricFunction('BN_24x24x1.gpw', **kwargs)\n",
    "\n",
    "\n",
    "#Finally we calculate he polarizability in the x, y, and z direction. The output is a .csv file (one for each direction) which can be plotted.\n",
    "df.get_polarizability(xc='RPA',\t\t\t\t#We want to calculate the absorption spectrum within RPA\n",
    "                      q_c = [0, 0, 0],\t\t\t#We consider the zero momentum wave vector\n",
    "                      pbc = [True, True, False],\t#Define boundary conditions\n",
    "                      direction = 'x', \t\t\t#Define real space direction\n",
    "                      filename='BN_24x24x1_rpa_x.csv')\t#Name of output file\n",
    "\n",
    "df.get_polarizability(xc='RPA',\n",
    "                      q_c = [0, 0, 0],\n",
    "                      pbc = [True, True, False],\n",
    "                      direction = 'y', \n",
    "                      filename='BN_24x24x1_rpa_y.csv')\n",
    "\n",
    "df.get_polarizability(xc='RPA',\n",
    "                      q_c = [0, 0, 0],\n",
    "                      pbc = [True, True, False],\n",
    "                      direction = 'z', \n",
    "                      filename='BN_24x24x1_rpa_z.csv')"
   ]
  },
  {
   "cell_type": "markdown",
   "metadata": {},
   "source": [
    "Now it is time to do more calculations with finer k-point mesh to see the importance of converging our calculations. Repeat the above calculations with the following paramters:\n",
    "\n",
    "For BN try: (24,24,1), (40,40,1), and (60,60,1) k-points\n",
    "For bulk materials try: (12,12,4), (18,18,6), and (24,24,8) k-points\n",
    "\n"
   ]
  }
 ],
 "metadata": {
  "kernelspec": {
   "display_name": "Python 3",
   "language": "python",
   "name": "python3"
  },
  "language_info": {
   "codemirror_mode": {
    "name": "ipython",
    "version": 3
   },
   "file_extension": ".py",
   "mimetype": "text/x-python",
   "name": "python",
   "nbconvert_exporter": "python",
   "pygments_lexer": "ipython3",
   "version": "3.6.4"
  }
 },
 "nbformat": 4,
 "nbformat_minor": 2
}
