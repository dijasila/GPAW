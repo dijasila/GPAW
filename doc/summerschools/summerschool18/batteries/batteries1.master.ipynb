{
 "cells": [
  {
   "cell_type": "markdown",
   "metadata": {
    "ein.tags": "worksheet-0",
    "slideshow": {
     "slide_type": "-"
    }
   },
   "source": [
    "# Battery project - Day 2"
   ]
  },
  {
   "cell_type": "markdown",
   "metadata": {
    "ein.tags": "worksheet-0",
    "slideshow": {
     "slide_type": "-"
    }
   },
   "source": [
    "Today we will calculate the energy cost/gain associated with intercalating a lithium atom into graphite using approaches at different levels of theory. After today you should be able to:\n",
    "\n",
    "- Setup structures and do relaxations using ASE and GPAW.\n",
    "- Discuss which level of theory is required to predict the Li intercalation energy and why?\n",
    "\n",
    "The Li intercalation reaction is:\n",
    "$$Li(s) + C_6^{graphite} \\rightarrow LiC_6$$\n",
    "and the intercalation energy will then be\n",
    "$$E_{Li@graphite} = E_{LiC_6} - (E_{Li(s)} + E_{C_6^{graphite}})$$\n",
    "We will calculate these energies using Density Functional Theory (DFT) with different exchange-correlation functionals. Graphite is characterised by graphene layers with strongly bound carbon atoms in hexagonal rings and weak long-range van der Waals interactions between the layers.\n",
    "\n",
    "In the sections below we will calculate the lowest energy structures of each compound. This is needed to determine the intercalation energy.\n",
    "\n",
    "- [Graphite](#graphite)\n",
    "- [Li metal](#limetal)\n",
    "- [Li intercalation](#liintercalation)\n",
    "\n"
   ]
  },
  {
   "cell_type": "markdown",
   "metadata": {
    "ein.tags": "worksheet-0",
    "slideshow": {
     "slide_type": "-"
    }
   },
   "source": [
    "<a id='graphite'></a>\n",
    "## Graphite"
   ]
  },
  {
   "cell_type": "markdown",
   "metadata": {
    "ein.tags": "worksheet-0",
    "slideshow": {
     "slide_type": "-"
    }
   },
   "source": [
    "![graphite](C64.png)"
   ]
  },
  {
   "cell_type": "markdown",
   "metadata": {
    "autoscroll": false,
    "ein.hycell": false,
    "ein.tags": "worksheet-0",
    "slideshow": {
     "slide_type": "-"
    }
   },
   "source": [
    "To try some of the methods that we are going to use we will start out by utilizing the interatomic potential [EMT](https://wiki.fysik.dtu.dk/ase/ase/calculators/emt.html) (Effective Medium Theory) calculator. This will allow to quickly test some of the optimization procedures in ASE, and ensure that the scripts do what they are supposed to, before we move on to the more precise and time consuming DFT calculations. Initially we will calculate the C-C distance and interlayer spacing in graphite in a two step procedure."
   ]
  },
  {
   "cell_type": "code",
   "execution_count": 1,
   "metadata": {
    "autoscroll": false,
    "collapsed": false,
    "ein.hycell": false,
    "ein.tags": "worksheet-0",
    "slideshow": {
     "slide_type": "-"
    }
   },
   "outputs": [],
   "source": [
    "# The graphite structure is set up using a tool in ASE\n",
    "from ase.lattice.hexagonal import Graphite\n",
    "\n",
    "# One has only to provide the lattice constants\n",
    "structure = Graphite('C', latticeconstant={'a': 1.5, 'c': 4.0})"
   ]
  },
  {
   "cell_type": "markdown",
   "metadata": {
    "ein.tags": "worksheet-0",
    "slideshow": {
     "slide_type": "-"
    }
   },
   "source": [
    "To veriry that the structures is as expected we can check it visually."
   ]
  },
  {
   "cell_type": "code",
   "execution_count": 3,
   "metadata": {
    "autoscroll": false,
    "collapsed": false,
    "ein.hycell": false,
    "ein.tags": "worksheet-0",
    "slideshow": {
     "slide_type": "-"
    }
   },
   "outputs": [],
   "source": [
    "from ase.visualize import view\n",
    "\n",
    "view(structure)  # This will pop up the ase gui window"
   ]
  },
  {
   "cell_type": "markdown",
   "metadata": {
    "ein.tags": "worksheet-0",
    "slideshow": {
     "slide_type": "-"
    }
   },
   "source": [
    "Next we will use the EMT calculator to get the energy of graphite. Remember absolute energies are not meaningful, we will only use energy differences."
   ]
  },
  {
   "cell_type": "code",
   "execution_count": null,
   "metadata": {
    "autoscroll": false,
    "collapsed": false,
    "ein.hycell": false,
    "ein.tags": "worksheet-0",
    "slideshow": {
     "slide_type": "-"
    }
   },
   "outputs": [],
   "source": [
    "from ase.calculators.emt import EMT\n",
    "\n",
    "calc = EMT()\n",
    "structure.set_calculator(calc)\n",
    "energy = structure.get_potential_energy()\n",
    "print('Energy of graphite: {0:.2f} eV'.format(energy))\n"
   ]
  },
  {
   "cell_type": "markdown",
   "metadata": {
    "ein.tags": "worksheet-0",
    "slideshow": {
     "slide_type": "-"
    }
   },
   "source": [
    "The cell below requires some input. We set up a loop that should calculate the energy of graphite for a series of C-C distances."
   ]
  },
  {
   "cell_type": "code",
   "execution_count": 13,
   "metadata": {
    "autoscroll": false,
    "collapsed": false,
    "ein.hycell": false,
    "ein.tags": "worksheet-0",
    "slideshow": {
     "slide_type": "-"
    }
   },
   "outputs": [],
   "source": [
    "import numpy as np\n",
    "\n",
    "# Provide some initial guesses on the distances\n",
    "ccdist = 1.3\n",
    "layerdist = 3.7\n",
    "\n",
    "# We will explore distances around the initial guess\n",
    "dists = np.linspace(ccdist * .8, ccdist * 1.2, 10)\n",
    "# The resulting energies are put in the following list\n",
    "energies = []\n",
    "for cc in dists:\n",
    "    # Calculate the lattice parameters a and c from the C-C distance\n",
    "    # and interlayer distance, respectively\n",
    "    a = cc * np.sqrt(3)\n",
    "    c = 2 * layerdist\n",
    "\n",
    "    gra = Graphite('C', latticeconstant={'a': a, 'c': c})\n",
    "\n",
    "    # Set the calculator and attach it to the Atoms object with\n",
    "    # the graphite structure\n",
    "    calc = EMT()\n",
    "    gra.set_calculator(calc)\n",
    "\n",
    "    energy = gra.get_potential_energy()\n",
    "    # Append results to the list\n",
    "    energies.append(energy)\n",
    "    "
   ]
  },
  {
   "cell_type": "markdown",
   "metadata": {
    "ein.tags": "worksheet-0",
    "slideshow": {
     "slide_type": "-"
    }
   },
   "source": [
    "Determine the equilibrium lattice constant. We use the [equation of state module](https://wiki.fysik.dtu.dk/ase/ase/eos.html) in ASE."
   ]
  },
  {
   "cell_type": "code",
   "execution_count": 14,
   "metadata": {
    "autoscroll": false,
    "collapsed": false,
    "ein.hycell": false,
    "ein.tags": "worksheet-0",
    "slideshow": {
     "slide_type": "-"
    }
   },
   "outputs": [
    {
     "name": "stdout",
     "output_type": "stream",
     "text": [
      "1.322942721169989\n"
     ]
    }
   ],
   "source": [
    "from ase.eos import EquationOfState\n",
    "\n",
    "eos = EquationOfState(dists, energies)\n",
    "v0, e0, B = eos.fit()\n",
    "ccdist = v0\n",
    "print(ccdist)\n"
   ]
  },
  {
   "cell_type": "markdown",
   "metadata": {
    "ein.tags": "worksheet-0",
    "slideshow": {
     "slide_type": "-"
    }
   },
   "source": [
    "![Grapite fit](gra_fit.png)"
   ]
  },
  {
   "cell_type": "markdown",
   "metadata": {
    "ein.tags": "worksheet-0",
    "slideshow": {
     "slide_type": "-"
    }
   },
   "source": [
    "Make a script that calculates the interlayer distance with EMT in the cell below"
   ]
  },
  {
   "cell_type": "code",
   "execution_count": 18,
   "metadata": {
    "autoscroll": false,
    "collapsed": false,
    "ein.hycell": false,
    "ein.tags": "worksheet-0",
    "slideshow": {
     "slide_type": "-"
    }
   },
   "outputs": [
    {
     "name": "stdout",
     "output_type": "stream",
     "text": [
      "1.8276194864509687\n"
     ]
    }
   ],
   "source": [
    "# This script will calculate the energy of graphite for a series of inter-layer distances.\n",
    "from ase.calculators.emt import EMT\n",
    "from ase.lattice.hexagonal import Graphite\n",
    "from ase.eos import EquationOfState\n",
    "import numpy as np\n",
    "\n",
    "# ccdist is already defined in the previous cell\n",
    "# Start from a small guess\n",
    "layerdist = 2.0\n",
    "\n",
    "# teacher\n",
    "dists = np.linspace(layerdist * .8, layerdist * 1.2, 10)\n",
    "# The resulting energies are put in the following list\n",
    "energies = []\n",
    "for ld in dists:\n",
    "    # Calculate the lattice parameters a and c from the C-C distance\n",
    "    # and interlayer distance, respectively\n",
    "    a = ccdist * np.sqrt(3)\n",
    "    c = 2 * ld\n",
    "\n",
    "    gra = Graphite('C', latticeconstant={'a': a, 'c': c})\n",
    "\n",
    "    # Set the calculator and attach it to the Atoms object with\n",
    "    # the graphite structure\n",
    "    calc = EMT()\n",
    "    gra.set_calculator(calc)\n",
    "\n",
    "    energy = gra.get_potential_energy()\n",
    "    # Append results to the list\n",
    "    energies.append(energy)\n",
    "eos = EquationOfState(dists, energies)\n",
    "v0, e0, B = eos.fit()\n",
    "layerdist = v0\n",
    "print(layerdist)\n"
   ]
  },
  {
   "cell_type": "markdown",
   "metadata": {
    "ein.tags": "worksheet-0",
    "slideshow": {
     "slide_type": "-"
    }
   },
   "source": [
    "Now both the optimal C-C distance and the interlayer distance is evaluated with EMT. Try to compare with the experimental numbers provided below.\n",
    "\n",
    "|                         | Experimental values | EMT | LDA | PBE | BEEF-vdW |\n",
    "|-------------------------|---------------------|-----|-----|-----|----------|\n",
    "| C-C  distance / Å       |               1.420 |     |     |     |          |\n",
    "| Interlayer distance / Å |                3.35 |     |     |     |          |\n"
   ]
  },
  {
   "cell_type": "markdown",
   "metadata": {
    "ein.tags": "worksheet-0",
    "slideshow": {
     "slide_type": "-"
    }
   },
   "source": [
    "Not surprisingly we need to use more sophisticated theory to model this issue."
   ]
  },
  {
   "cell_type": "markdown",
   "metadata": {
    "ein.tags": "worksheet-0",
    "slideshow": {
     "slide_type": "-"
    }
   },
   "source": [
    "Below we will use DFT as implemented in GPAW to determine the same parameters."
   ]
  },
  {
   "cell_type": "markdown",
   "metadata": {
    "ein.tags": "worksheet-0",
    "slideshow": {
     "slide_type": "-"
    }
   },
   "source": [
    "First we set up an initial guess of the structure as before."
   ]
  },
  {
   "cell_type": "code",
   "execution_count": 5,
   "metadata": {
    "autoscroll": false,
    "collapsed": false,
    "ein.hycell": false,
    "ein.tags": "worksheet-0",
    "slideshow": {
     "slide_type": "-"
    }
   },
   "outputs": [],
   "source": [
    "import numpy as np\n",
    "from ase.lattice.hexagonal import Graphite\n",
    "\n",
    "ccdist = 1.40\n",
    "layerdist = 3.33\n",
    "a = ccdist * np.sqrt(3)\n",
    "c = 2 * layerdist\n",
    "gra = Graphite('C', latticeconstant={'a': a, 'c': c})\n"
   ]
  },
  {
   "cell_type": "markdown",
   "metadata": {
    "ein.tags": "worksheet-0",
    "slideshow": {
     "slide_type": "-"
    }
   },
   "source": [
    "Then we create the GPAW calculator object. The parameters are explained [here](https://wiki.fysik.dtu.dk/gpaw/documentation/manual.html#parameters), see especially the section regarding [mode](https://wiki.fysik.dtu.dk/gpaw/documentation/manual.html#manual-mode). This graphite structure has a small unit cell, thus plane wave mode, `mode=PW()`, will be faster than the grid mode, `mode='fd'`. Plane wave mode lets us calculate the strain on the unit cell - useful for optimizing the lattice parameters.\n",
    "\n",
    "We will start by using the LDA exchange-correlation functional. Later you will try other functionals."
   ]
  },
  {
   "cell_type": "code",
   "execution_count": 6,
   "metadata": {
    "autoscroll": false,
    "collapsed": false,
    "ein.hycell": false,
    "ein.tags": "worksheet-0",
    "slideshow": {
     "slide_type": "-"
    }
   },
   "outputs": [
    {
     "name": "stdout",
     "output_type": "stream",
     "text": [
      "-40.450597563379446\n"
     ]
    }
   ],
   "source": [
    "from gpaw import GPAW, PW\n",
    "\n",
    "xc = 'LDA'\n",
    "calc = GPAW(mode=PW(500), kpts=(10, 10, 6), xc=xc,\n",
    "            txt='graphite-{0}.log'.format(xc))\n",
    "\n",
    "gra.set_calculator(calc)  # Connect system and calculator\n",
    "print(gra.get_potential_energy())\n"
   ]
  },
  {
   "cell_type": "markdown",
   "metadata": {
    "ein.tags": "worksheet-0",
    "slideshow": {
     "slide_type": "-"
    }
   },
   "source": [
    "Then we optimize the unit cell of the structure. We will take advantage of the [StrainFilter](https://wiki.fysik.dtu.dk/ase/ase/constraints.html#the-strainfilter-class) class. This allows us to simultaneously optimize both C-C distance and interlayer distance. We employ the [BFGS](http://aria42.com/blog/2014/12/understanding-lbfgs) algorithm to minimize the strain on the unit cell."
   ]
  },
  {
   "cell_type": "code",
   "execution_count": 7,
   "metadata": {
    "autoscroll": false,
    "collapsed": false,
    "ein.hycell": false,
    "ein.tags": "worksheet-0",
    "slideshow": {
     "slide_type": "-"
    }
   },
   "outputs": [
    {
     "name": "stdout",
     "output_type": "stream",
     "text": [
      "      Step     Time          Energy         fmax\n",
      "BFGS:    0 15:14:05      -40.450598        3.1769\n"
     ]
    },
    {
     "name": "stdout",
     "output_type": "stream",
     "text": [
      "BFGS:    1 15:15:21      -40.375703        7.6672\n"
     ]
    },
    {
     "name": "stdout",
     "output_type": "stream",
     "text": [
      "BFGS:    2 15:16:45      -40.473027        0.3147\n"
     ]
    },
    {
     "name": "stdout",
     "output_type": "stream",
     "text": [
      "BFGS:    3 15:18:18      -40.472716        0.2172\n"
     ]
    },
    {
     "name": "stdout",
     "output_type": "stream",
     "text": [
      "BFGS:    4 15:19:28      -40.470119        0.3920\n"
     ]
    },
    {
     "name": "stdout",
     "output_type": "stream",
     "text": [
      "BFGS:    5 15:20:37      -40.468641        0.2017\n"
     ]
    },
    {
     "name": "stdout",
     "output_type": "stream",
     "text": [
      "BFGS:    6 15:21:47      -40.468799        0.0285\n"
     ]
    },
    {
     "name": "stdout",
     "output_type": "stream",
     "text": [
      "BFGS:    7 15:22:56      -40.468898        0.0008\n"
     ]
    },
    {
     "data": {
      "text/plain": [
       "True"
      ]
     },
     "execution_count": 7,
     "metadata": {},
     "output_type": "execute_result"
    }
   ],
   "source": [
    "from ase.constraints import StrainFilter\n",
    "from ase.optimize.bfgs import BFGS\n",
    "from ase.io import Trajectory\n",
    "\n",
    "sf = StrainFilter(gra, mask=[1, 1, 1, 0, 0, 0])\n",
    "opt = BFGS(sf)\n",
    "traj = Trajectory('graphite-{0}.traj'.format(xc), 'w', gra)\n",
    "opt.attach(traj)\n",
    "opt.run(fmax=0.01)\n"
   ]
  },
  {
   "cell_type": "markdown",
   "metadata": {
    "ein.tags": "worksheet-0",
    "slideshow": {
     "slide_type": "-"
    }
   },
   "source": [
    "Read in the result of the relaxation and determine the C-C and interlayer distances."
   ]
  },
  {
   "cell_type": "code",
   "execution_count": 12,
   "metadata": {
    "autoscroll": false,
    "collapsed": false,
    "ein.hycell": false,
    "ein.tags": "worksheet-0",
    "slideshow": {
     "slide_type": "-"
    }
   },
   "outputs": [
    {
     "name": "stdout",
     "output_type": "stream",
     "text": [
      "1.4107987528380115\n",
      "3.2140468702671305\n"
     ]
    }
   ],
   "source": [
    "from ase.io import read\n",
    "import numpy as np\n",
    "\n",
    "atoms = read('graphite-{0}.traj'.format(xc))\n",
    "a = atoms.cell[0][0]\n",
    "h = atoms.cell[2][2]\n",
    "# Determine the rest from here\n",
    "print(a / np.sqrt(3))\n",
    "print(h / 2)"
   ]
  },
  {
   "cell_type": "markdown",
   "metadata": {
    "ein.tags": "worksheet-0",
    "slideshow": {
     "slide_type": "-"
    }
   },
   "source": [
    "Now we need to try a GGA type functional (e.g. PBE) and a functional taking into account van der Waals forces (e.g. BEEF-vdw). These functionals will require more computational time, thus the following might be beneficial to read."
   ]
  },
  {
   "cell_type": "markdown",
   "metadata": {
    "ein.tags": "worksheet-0",
    "slideshow": {
     "slide_type": "-"
    }
   },
   "source": [
    "If the relaxation takes too long time, we can submit it to be run in parallel on the computer cluster. There are two ways to achieve this:\n",
    "    \n",
    "A. Log in to the gbar terminal, save a full script in a file (e.g. `calc.py`) and submit that file to be calculated in parallel (e.g. `mpirun gpaw-python calc.py`).\n",
    "\n",
    "or\n",
    "\n",
    "B. Stay in the notebook and make use of the functions supplied in `submit_functions`, these are explained in the following cells."
   ]
  },
  {
   "cell_type": "markdown",
   "metadata": {
    "ein.tags": "worksheet-0",
    "slideshow": {
     "slide_type": "-"
    }
   },
   "source": [
    "Make a cell with the full script, it needs to be able to run by itself, i.e. not depend on variables or imports in other cells. A good way to test this is to restart the kernel (this will wipe all variables) and run the cell. Once it has been established that the DFT calculation has been initiated without error, interrupt the kernel and take note of the number in brackets, i.e. x in `In [ x ]`, this is needed to get the text in the cell for submission."
   ]
  },
  {
   "cell_type": "code",
   "execution_count": null,
   "metadata": {
    "autoscroll": false,
    "collapsed": false,
    "ein.hycell": false,
    "ein.tags": "worksheet-0",
    "slideshow": {
     "slide_type": "-"
    }
   },
   "outputs": [],
   "source": [
    "# Full script\n",
    "# from ase..."
   ]
  },
  {
   "cell_type": "code",
   "execution_count": 1,
   "metadata": {
    "autoscroll": false,
    "collapsed": false,
    "ein.hycell": false,
    "ein.tags": "worksheet-0",
    "slideshow": {
     "slide_type": "-"
    }
   },
   "outputs": [
    {
     "ename": "KeyboardInterrupt",
     "evalue": "",
     "output_type": "error",
     "traceback": [
      "\u001b[0;31m---------------------------------------------------------------------------\u001b[0m",
      "\u001b[0;31mKeyboardInterrupt\u001b[0m                         Traceback (most recent call last)",
      "\u001b[0;32m<ipython-input-1-a2228abfb019>\u001b[0m in \u001b[0;36m<module>\u001b[0;34m()\u001b[0m\n\u001b[1;32m     24\u001b[0m \u001b[0mtraj\u001b[0m \u001b[0;34m=\u001b[0m \u001b[0mTrajectory\u001b[0m\u001b[0;34m(\u001b[0m\u001b[0;34m'graphite-{0}.traj'\u001b[0m\u001b[0;34m.\u001b[0m\u001b[0mformat\u001b[0m\u001b[0;34m(\u001b[0m\u001b[0mxc\u001b[0m\u001b[0;34m)\u001b[0m\u001b[0;34m,\u001b[0m \u001b[0;34m'w'\u001b[0m\u001b[0;34m,\u001b[0m \u001b[0mgra\u001b[0m\u001b[0;34m)\u001b[0m\u001b[0;34m\u001b[0m\u001b[0m\n\u001b[1;32m     25\u001b[0m \u001b[0mopt\u001b[0m\u001b[0;34m.\u001b[0m\u001b[0mattach\u001b[0m\u001b[0;34m(\u001b[0m\u001b[0mtraj\u001b[0m\u001b[0;34m)\u001b[0m\u001b[0;34m\u001b[0m\u001b[0m\n\u001b[0;32m---> 26\u001b[0;31m \u001b[0mopt\u001b[0m\u001b[0;34m.\u001b[0m\u001b[0mrun\u001b[0m\u001b[0;34m(\u001b[0m\u001b[0mfmax\u001b[0m\u001b[0;34m=\u001b[0m\u001b[0;36m0.01\u001b[0m\u001b[0;34m)\u001b[0m\u001b[0;34m\u001b[0m\u001b[0m\n\u001b[0m",
      "\u001b[0;32m~/gpaw-install/lib/python3.6/site-packages/ase/optimize/optimize.py\u001b[0m in \u001b[0;36mrun\u001b[0;34m(self, fmax, steps)\u001b[0m\n\u001b[1;32m    172\u001b[0m         \u001b[0mstep\u001b[0m \u001b[0;34m=\u001b[0m \u001b[0;36m0\u001b[0m\u001b[0;34m\u001b[0m\u001b[0m\n\u001b[1;32m    173\u001b[0m         \u001b[0;32mwhile\u001b[0m \u001b[0mstep\u001b[0m \u001b[0;34m<\u001b[0m \u001b[0msteps\u001b[0m\u001b[0;34m:\u001b[0m\u001b[0;34m\u001b[0m\u001b[0m\n\u001b[0;32m--> 174\u001b[0;31m             \u001b[0mf\u001b[0m \u001b[0;34m=\u001b[0m \u001b[0mself\u001b[0m\u001b[0;34m.\u001b[0m\u001b[0matoms\u001b[0m\u001b[0;34m.\u001b[0m\u001b[0mget_forces\u001b[0m\u001b[0;34m(\u001b[0m\u001b[0;34m)\u001b[0m\u001b[0;34m\u001b[0m\u001b[0m\n\u001b[0m\u001b[1;32m    175\u001b[0m             \u001b[0mself\u001b[0m\u001b[0;34m.\u001b[0m\u001b[0mlog\u001b[0m\u001b[0;34m(\u001b[0m\u001b[0mf\u001b[0m\u001b[0;34m)\u001b[0m\u001b[0;34m\u001b[0m\u001b[0m\n\u001b[1;32m    176\u001b[0m             \u001b[0mself\u001b[0m\u001b[0;34m.\u001b[0m\u001b[0mcall_observers\u001b[0m\u001b[0;34m(\u001b[0m\u001b[0;34m)\u001b[0m\u001b[0;34m\u001b[0m\u001b[0m\n",
      "\u001b[0;32m~/gpaw-install/lib/python3.6/site-packages/ase/constraints.py\u001b[0m in \u001b[0;36mget_forces\u001b[0;34m(self)\u001b[0m\n\u001b[1;32m   1248\u001b[0m \u001b[0;34m\u001b[0m\u001b[0m\n\u001b[1;32m   1249\u001b[0m     \u001b[0;32mdef\u001b[0m \u001b[0mget_forces\u001b[0m\u001b[0;34m(\u001b[0m\u001b[0mself\u001b[0m\u001b[0;34m)\u001b[0m\u001b[0;34m:\u001b[0m\u001b[0;34m\u001b[0m\u001b[0m\n\u001b[0;32m-> 1250\u001b[0;31m         \u001b[0mstress\u001b[0m \u001b[0;34m=\u001b[0m \u001b[0mself\u001b[0m\u001b[0;34m.\u001b[0m\u001b[0matoms\u001b[0m\u001b[0;34m.\u001b[0m\u001b[0mget_stress\u001b[0m\u001b[0;34m(\u001b[0m\u001b[0;34m)\u001b[0m\u001b[0;34m\u001b[0m\u001b[0m\n\u001b[0m\u001b[1;32m   1251\u001b[0m         \u001b[0;32mreturn\u001b[0m \u001b[0;34m-\u001b[0m\u001b[0mself\u001b[0m\u001b[0;34m.\u001b[0m\u001b[0matoms\u001b[0m\u001b[0;34m.\u001b[0m\u001b[0mget_volume\u001b[0m\u001b[0;34m(\u001b[0m\u001b[0;34m)\u001b[0m \u001b[0;34m*\u001b[0m \u001b[0;34m(\u001b[0m\u001b[0mstress\u001b[0m \u001b[0;34m*\u001b[0m \u001b[0mself\u001b[0m\u001b[0;34m.\u001b[0m\u001b[0mmask\u001b[0m\u001b[0;34m)\u001b[0m\u001b[0;34m.\u001b[0m\u001b[0mreshape\u001b[0m\u001b[0;34m(\u001b[0m\u001b[0;34m(\u001b[0m\u001b[0;36m2\u001b[0m\u001b[0;34m,\u001b[0m \u001b[0;36m3\u001b[0m\u001b[0;34m)\u001b[0m\u001b[0;34m)\u001b[0m\u001b[0;34m\u001b[0m\u001b[0m\n\u001b[1;32m   1252\u001b[0m \u001b[0;34m\u001b[0m\u001b[0m\n",
      "\u001b[0;32m~/gpaw-install/lib/python3.6/site-packages/ase/atoms.py\u001b[0m in \u001b[0;36mget_stress\u001b[0;34m(self, voigt)\u001b[0m\n\u001b[1;32m    756\u001b[0m             \u001b[0;32mraise\u001b[0m \u001b[0mRuntimeError\u001b[0m\u001b[0;34m(\u001b[0m\u001b[0;34m'Atoms object has no calculator.'\u001b[0m\u001b[0;34m)\u001b[0m\u001b[0;34m\u001b[0m\u001b[0m\n\u001b[1;32m    757\u001b[0m \u001b[0;34m\u001b[0m\u001b[0m\n\u001b[0;32m--> 758\u001b[0;31m         \u001b[0mstress\u001b[0m \u001b[0;34m=\u001b[0m \u001b[0mself\u001b[0m\u001b[0;34m.\u001b[0m\u001b[0m_calc\u001b[0m\u001b[0;34m.\u001b[0m\u001b[0mget_stress\u001b[0m\u001b[0;34m(\u001b[0m\u001b[0mself\u001b[0m\u001b[0;34m)\u001b[0m\u001b[0;34m\u001b[0m\u001b[0m\n\u001b[0m\u001b[1;32m    759\u001b[0m         \u001b[0mshape\u001b[0m \u001b[0;34m=\u001b[0m \u001b[0mstress\u001b[0m\u001b[0;34m.\u001b[0m\u001b[0mshape\u001b[0m\u001b[0;34m\u001b[0m\u001b[0m\n\u001b[1;32m    760\u001b[0m \u001b[0;34m\u001b[0m\u001b[0m\n",
      "\u001b[0;32m~/gpaw-install/lib/python3.6/site-packages/ase/calculators/calculator.py\u001b[0m in \u001b[0;36mget_stress\u001b[0;34m(self, atoms)\u001b[0m\n\u001b[1;32m    461\u001b[0m \u001b[0;34m\u001b[0m\u001b[0m\n\u001b[1;32m    462\u001b[0m     \u001b[0;32mdef\u001b[0m \u001b[0mget_stress\u001b[0m\u001b[0;34m(\u001b[0m\u001b[0mself\u001b[0m\u001b[0;34m,\u001b[0m \u001b[0matoms\u001b[0m\u001b[0;34m=\u001b[0m\u001b[0;32mNone\u001b[0m\u001b[0;34m)\u001b[0m\u001b[0;34m:\u001b[0m\u001b[0;34m\u001b[0m\u001b[0m\n\u001b[0;32m--> 463\u001b[0;31m         \u001b[0;32mreturn\u001b[0m \u001b[0mself\u001b[0m\u001b[0;34m.\u001b[0m\u001b[0mget_property\u001b[0m\u001b[0;34m(\u001b[0m\u001b[0;34m'stress'\u001b[0m\u001b[0;34m,\u001b[0m \u001b[0matoms\u001b[0m\u001b[0;34m)\u001b[0m\u001b[0;34m\u001b[0m\u001b[0m\n\u001b[0m\u001b[1;32m    464\u001b[0m \u001b[0;34m\u001b[0m\u001b[0m\n\u001b[1;32m    465\u001b[0m     \u001b[0;32mdef\u001b[0m \u001b[0mget_dipole_moment\u001b[0m\u001b[0;34m(\u001b[0m\u001b[0mself\u001b[0m\u001b[0;34m,\u001b[0m \u001b[0matoms\u001b[0m\u001b[0;34m=\u001b[0m\u001b[0;32mNone\u001b[0m\u001b[0;34m)\u001b[0m\u001b[0;34m:\u001b[0m\u001b[0;34m\u001b[0m\u001b[0m\n",
      "\u001b[0;32m~/gpaw-install/lib/python3.6/site-packages/ase/calculators/calculator.py\u001b[0m in \u001b[0;36mget_property\u001b[0;34m(self, name, atoms, allow_calculation)\u001b[0m\n\u001b[1;32m    491\u001b[0m             \u001b[0;32mif\u001b[0m \u001b[0;32mnot\u001b[0m \u001b[0mallow_calculation\u001b[0m\u001b[0;34m:\u001b[0m\u001b[0;34m\u001b[0m\u001b[0m\n\u001b[1;32m    492\u001b[0m                 \u001b[0;32mreturn\u001b[0m \u001b[0;32mNone\u001b[0m\u001b[0;34m\u001b[0m\u001b[0m\n\u001b[0;32m--> 493\u001b[0;31m             \u001b[0mself\u001b[0m\u001b[0;34m.\u001b[0m\u001b[0mcalculate\u001b[0m\u001b[0;34m(\u001b[0m\u001b[0matoms\u001b[0m\u001b[0;34m,\u001b[0m \u001b[0;34m[\u001b[0m\u001b[0mname\u001b[0m\u001b[0;34m]\u001b[0m\u001b[0;34m,\u001b[0m \u001b[0msystem_changes\u001b[0m\u001b[0;34m)\u001b[0m\u001b[0;34m\u001b[0m\u001b[0m\n\u001b[0m\u001b[1;32m    494\u001b[0m \u001b[0;34m\u001b[0m\u001b[0m\n\u001b[1;32m    495\u001b[0m         \u001b[0;32mif\u001b[0m \u001b[0mname\u001b[0m \u001b[0;34m==\u001b[0m \u001b[0;34m'magmom'\u001b[0m \u001b[0;32mand\u001b[0m \u001b[0;34m'magmom'\u001b[0m \u001b[0;32mnot\u001b[0m \u001b[0;32min\u001b[0m \u001b[0mself\u001b[0m\u001b[0;34m.\u001b[0m\u001b[0mresults\u001b[0m\u001b[0;34m:\u001b[0m\u001b[0;34m\u001b[0m\u001b[0m\n",
      "\u001b[0;32m~/gpaw-install/lib/python3.6/site-packages/gpaw/calculator.py\u001b[0m in \u001b[0;36mcalculate\u001b[0;34m(self, atoms, properties, system_changes)\u001b[0m\n\u001b[1;32m    293\u001b[0m                 self.scf.run(self.wfs, self.hamiltonian,\n\u001b[1;32m    294\u001b[0m                              \u001b[0mself\u001b[0m\u001b[0;34m.\u001b[0m\u001b[0mdensity\u001b[0m\u001b[0;34m,\u001b[0m \u001b[0mself\u001b[0m\u001b[0;34m.\u001b[0m\u001b[0moccupations\u001b[0m\u001b[0;34m,\u001b[0m\u001b[0;34m\u001b[0m\u001b[0m\n\u001b[0;32m--> 295\u001b[0;31m                              self.log, self.call_observers)\n\u001b[0m\u001b[1;32m    296\u001b[0m \u001b[0;34m\u001b[0m\u001b[0m\n\u001b[1;32m    297\u001b[0m             self.log('\\nConverged after {} iterations.\\n'\n",
      "\u001b[0;32m~/gpaw-install/lib/python3.6/site-packages/gpaw/scf.py\u001b[0m in \u001b[0;36mrun\u001b[0;34m(self, wfs, ham, dens, occ, log, callback)\u001b[0m\n\u001b[1;32m     60\u001b[0m         \u001b[0mself\u001b[0m\u001b[0;34m.\u001b[0m\u001b[0mniter\u001b[0m \u001b[0;34m=\u001b[0m \u001b[0;36m1\u001b[0m\u001b[0;34m\u001b[0m\u001b[0m\n\u001b[1;32m     61\u001b[0m         \u001b[0;32mwhile\u001b[0m \u001b[0mself\u001b[0m\u001b[0;34m.\u001b[0m\u001b[0mniter\u001b[0m \u001b[0;34m<=\u001b[0m \u001b[0mself\u001b[0m\u001b[0;34m.\u001b[0m\u001b[0mmaxiter\u001b[0m\u001b[0;34m:\u001b[0m\u001b[0;34m\u001b[0m\u001b[0m\n\u001b[0;32m---> 62\u001b[0;31m             \u001b[0mwfs\u001b[0m\u001b[0;34m.\u001b[0m\u001b[0meigensolver\u001b[0m\u001b[0;34m.\u001b[0m\u001b[0miterate\u001b[0m\u001b[0;34m(\u001b[0m\u001b[0mham\u001b[0m\u001b[0;34m,\u001b[0m \u001b[0mwfs\u001b[0m\u001b[0;34m)\u001b[0m\u001b[0;34m\u001b[0m\u001b[0m\n\u001b[0m\u001b[1;32m     63\u001b[0m             \u001b[0mocc\u001b[0m\u001b[0;34m.\u001b[0m\u001b[0mcalculate\u001b[0m\u001b[0;34m(\u001b[0m\u001b[0mwfs\u001b[0m\u001b[0;34m)\u001b[0m\u001b[0;34m\u001b[0m\u001b[0m\n\u001b[1;32m     64\u001b[0m \u001b[0;34m\u001b[0m\u001b[0m\n",
      "\u001b[0;32m~/gpaw-install/lib/python3.6/site-packages/gpaw/eigensolvers/eigensolver.py\u001b[0m in \u001b[0;36miterate\u001b[0;34m(self, ham, wfs)\u001b[0m\n\u001b[1;32m     83\u001b[0m             \u001b[0;32mif\u001b[0m \u001b[0;32mnot\u001b[0m \u001b[0mwfs\u001b[0m\u001b[0;34m.\u001b[0m\u001b[0morthonormalized\u001b[0m\u001b[0;34m:\u001b[0m\u001b[0;34m\u001b[0m\u001b[0m\n\u001b[1;32m     84\u001b[0m                 \u001b[0mwfs\u001b[0m\u001b[0;34m.\u001b[0m\u001b[0morthonormalize\u001b[0m\u001b[0;34m(\u001b[0m\u001b[0mkpt\u001b[0m\u001b[0;34m)\u001b[0m\u001b[0;34m\u001b[0m\u001b[0m\n\u001b[0;32m---> 85\u001b[0;31m             \u001b[0me\u001b[0m \u001b[0;34m=\u001b[0m \u001b[0mself\u001b[0m\u001b[0;34m.\u001b[0m\u001b[0miterate_one_k_point\u001b[0m\u001b[0;34m(\u001b[0m\u001b[0mham\u001b[0m\u001b[0;34m,\u001b[0m \u001b[0mwfs\u001b[0m\u001b[0;34m,\u001b[0m \u001b[0mkpt\u001b[0m\u001b[0;34m)\u001b[0m\u001b[0;34m\u001b[0m\u001b[0m\n\u001b[0m\u001b[1;32m     86\u001b[0m             \u001b[0merror\u001b[0m \u001b[0;34m+=\u001b[0m \u001b[0me\u001b[0m\u001b[0;34m\u001b[0m\u001b[0m\n\u001b[1;32m     87\u001b[0m             \u001b[0;32mif\u001b[0m \u001b[0mself\u001b[0m\u001b[0;34m.\u001b[0m\u001b[0morthonormalization_required\u001b[0m\u001b[0;34m:\u001b[0m\u001b[0;34m\u001b[0m\u001b[0m\n",
      "\u001b[0;32m~/gpaw-install/lib/python3.6/site-packages/ase/utils/timing.py\u001b[0m in \u001b[0;36mnew_method\u001b[0;34m(slf, *args, **kwargs)\u001b[0m\n\u001b[1;32m    171\u001b[0m         \u001b[0;32mdef\u001b[0m \u001b[0mnew_method\u001b[0m\u001b[0;34m(\u001b[0m\u001b[0mslf\u001b[0m\u001b[0;34m,\u001b[0m \u001b[0;34m*\u001b[0m\u001b[0margs\u001b[0m\u001b[0;34m,\u001b[0m \u001b[0;34m**\u001b[0m\u001b[0mkwargs\u001b[0m\u001b[0;34m)\u001b[0m\u001b[0;34m:\u001b[0m\u001b[0;34m\u001b[0m\u001b[0m\n\u001b[1;32m    172\u001b[0m             \u001b[0mslf\u001b[0m\u001b[0;34m.\u001b[0m\u001b[0mtimer\u001b[0m\u001b[0;34m.\u001b[0m\u001b[0mstart\u001b[0m\u001b[0;34m(\u001b[0m\u001b[0mself\u001b[0m\u001b[0;34m.\u001b[0m\u001b[0mname\u001b[0m\u001b[0;34m)\u001b[0m\u001b[0;34m\u001b[0m\u001b[0m\n\u001b[0;32m--> 173\u001b[0;31m             \u001b[0mx\u001b[0m \u001b[0;34m=\u001b[0m \u001b[0mmethod\u001b[0m\u001b[0;34m(\u001b[0m\u001b[0mslf\u001b[0m\u001b[0;34m,\u001b[0m \u001b[0;34m*\u001b[0m\u001b[0margs\u001b[0m\u001b[0;34m,\u001b[0m \u001b[0;34m**\u001b[0m\u001b[0mkwargs\u001b[0m\u001b[0;34m)\u001b[0m\u001b[0;34m\u001b[0m\u001b[0m\n\u001b[0m\u001b[1;32m    174\u001b[0m             \u001b[0;32mtry\u001b[0m\u001b[0;34m:\u001b[0m\u001b[0;34m\u001b[0m\u001b[0m\n\u001b[1;32m    175\u001b[0m                 \u001b[0mslf\u001b[0m\u001b[0;34m.\u001b[0m\u001b[0mtimer\u001b[0m\u001b[0;34m.\u001b[0m\u001b[0mstop\u001b[0m\u001b[0;34m(\u001b[0m\u001b[0;34m)\u001b[0m\u001b[0;34m\u001b[0m\u001b[0m\n",
      "\u001b[0;32m~/gpaw-install/lib/python3.6/site-packages/gpaw/eigensolvers/davidson.py\u001b[0m in \u001b[0;36miterate_one_k_point\u001b[0;34m(self, ham, wfs, kpt)\u001b[0m\n\u001b[1;32m    113\u001b[0m             \u001b[0mR\u001b[0m \u001b[0;34m=\u001b[0m \u001b[0mpsit\u001b[0m\u001b[0;34m.\u001b[0m\u001b[0mapply\u001b[0m\u001b[0;34m(\u001b[0m\u001b[0mHt\u001b[0m\u001b[0;34m)\u001b[0m\u001b[0;34m\u001b[0m\u001b[0m\n\u001b[1;32m    114\u001b[0m \u001b[0;34m\u001b[0m\u001b[0m\n\u001b[0;32m--> 115\u001b[0;31m         \u001b[0mself\u001b[0m\u001b[0;34m.\u001b[0m\u001b[0mcalculate_residuals\u001b[0m\u001b[0;34m(\u001b[0m\u001b[0mkpt\u001b[0m\u001b[0;34m,\u001b[0m \u001b[0mwfs\u001b[0m\u001b[0;34m,\u001b[0m \u001b[0mham\u001b[0m\u001b[0;34m,\u001b[0m \u001b[0mpsit\u001b[0m\u001b[0;34m,\u001b[0m \u001b[0mP\u001b[0m\u001b[0;34m,\u001b[0m \u001b[0mkpt\u001b[0m\u001b[0;34m.\u001b[0m\u001b[0meps_n\u001b[0m\u001b[0;34m,\u001b[0m \u001b[0mR\u001b[0m\u001b[0;34m,\u001b[0m \u001b[0mP2\u001b[0m\u001b[0;34m)\u001b[0m\u001b[0;34m\u001b[0m\u001b[0m\n\u001b[0m\u001b[1;32m    116\u001b[0m \u001b[0;34m\u001b[0m\u001b[0m\n\u001b[1;32m    117\u001b[0m         \u001b[0mweights\u001b[0m \u001b[0;34m=\u001b[0m \u001b[0mself\u001b[0m\u001b[0;34m.\u001b[0m\u001b[0mweights\u001b[0m\u001b[0;34m(\u001b[0m\u001b[0mkpt\u001b[0m\u001b[0;34m)\u001b[0m\u001b[0;34m\u001b[0m\u001b[0m\n",
      "\u001b[0;32m~/gpaw-install/lib/python3.6/site-packages/gpaw/eigensolvers/eigensolver.py\u001b[0m in \u001b[0;36mcalculate_residuals\u001b[0;34m(self, kpt, wfs, ham, psit, P, eps_n, R, C, n_x, calculate_change)\u001b[0m\n\u001b[1;32m    115\u001b[0m                               \u001b[0mn_x\u001b[0m\u001b[0;34m,\u001b[0m\u001b[0;34m\u001b[0m\u001b[0m\n\u001b[1;32m    116\u001b[0m                               calculate_change)\n\u001b[0;32m--> 117\u001b[0;31m         \u001b[0mwfs\u001b[0m\u001b[0;34m.\u001b[0m\u001b[0mpt\u001b[0m\u001b[0;34m.\u001b[0m\u001b[0madd\u001b[0m\u001b[0;34m(\u001b[0m\u001b[0mR\u001b[0m\u001b[0;34m.\u001b[0m\u001b[0marray\u001b[0m\u001b[0;34m,\u001b[0m \u001b[0;34m{\u001b[0m\u001b[0ma\u001b[0m\u001b[0;34m:\u001b[0m \u001b[0mC_ni\u001b[0m \u001b[0;32mfor\u001b[0m \u001b[0ma\u001b[0m\u001b[0;34m,\u001b[0m \u001b[0mC_ni\u001b[0m \u001b[0;32min\u001b[0m \u001b[0mC\u001b[0m\u001b[0;34m.\u001b[0m\u001b[0mitems\u001b[0m\u001b[0;34m(\u001b[0m\u001b[0;34m)\u001b[0m\u001b[0;34m}\u001b[0m\u001b[0;34m,\u001b[0m \u001b[0mkpt\u001b[0m\u001b[0;34m.\u001b[0m\u001b[0mq\u001b[0m\u001b[0;34m)\u001b[0m\u001b[0;34m\u001b[0m\u001b[0m\n\u001b[0m\u001b[1;32m    118\u001b[0m \u001b[0;34m\u001b[0m\u001b[0m\n\u001b[1;32m    119\u001b[0m     \u001b[0;34m@\u001b[0m\u001b[0mtimer\u001b[0m\u001b[0;34m(\u001b[0m\u001b[0;34m'Subspace diag'\u001b[0m\u001b[0;34m)\u001b[0m\u001b[0;34m\u001b[0m\u001b[0m\n",
      "\u001b[0;32m~/gpaw-install/lib/python3.6/site-packages/gpaw/wavefunctions/pw.py\u001b[0m in \u001b[0;36madd\u001b[0;34m(self, a_xG, c_axi, q, f0_IG, serial)\u001b[0m\n\u001b[1;32m   1228\u001b[0m                 \u001b[0mG2\u001b[0m \u001b[0;34m*=\u001b[0m \u001b[0;36m2\u001b[0m\u001b[0;34m\u001b[0m\u001b[0m\n\u001b[1;32m   1229\u001b[0m \u001b[0;34m\u001b[0m\u001b[0m\n\u001b[0;32m-> 1230\u001b[0;31m             \u001b[0mgemm\u001b[0m\u001b[0;34m(\u001b[0m\u001b[0;36m1.0\u001b[0m \u001b[0;34m/\u001b[0m \u001b[0mself\u001b[0m\u001b[0;34m.\u001b[0m\u001b[0mpd\u001b[0m\u001b[0;34m.\u001b[0m\u001b[0mgd\u001b[0m\u001b[0;34m.\u001b[0m\u001b[0mdv\u001b[0m\u001b[0;34m,\u001b[0m \u001b[0mf_IG\u001b[0m\u001b[0;34m,\u001b[0m \u001b[0mc_xI\u001b[0m\u001b[0;34m,\u001b[0m \u001b[0;36m1.0\u001b[0m\u001b[0;34m,\u001b[0m \u001b[0ma_xG\u001b[0m\u001b[0;34m[\u001b[0m\u001b[0;34m:\u001b[0m\u001b[0;34m,\u001b[0m \u001b[0mG1\u001b[0m\u001b[0;34m:\u001b[0m\u001b[0mG2\u001b[0m\u001b[0;34m]\u001b[0m\u001b[0;34m)\u001b[0m\u001b[0;34m\u001b[0m\u001b[0m\n\u001b[0m\u001b[1;32m   1231\u001b[0m \u001b[0;34m\u001b[0m\u001b[0m\n\u001b[1;32m   1232\u001b[0m     \u001b[0;32mdef\u001b[0m \u001b[0mintegrate\u001b[0m\u001b[0;34m(\u001b[0m\u001b[0mself\u001b[0m\u001b[0;34m,\u001b[0m \u001b[0ma_xG\u001b[0m\u001b[0;34m,\u001b[0m \u001b[0mc_axi\u001b[0m\u001b[0;34m=\u001b[0m\u001b[0;32mNone\u001b[0m\u001b[0;34m,\u001b[0m \u001b[0mq\u001b[0m\u001b[0;34m=\u001b[0m\u001b[0;34m-\u001b[0m\u001b[0;36m1\u001b[0m\u001b[0;34m)\u001b[0m\u001b[0;34m:\u001b[0m\u001b[0;34m\u001b[0m\u001b[0m\n",
      "\u001b[0;31mKeyboardInterrupt\u001b[0m: "
     ]
    }
   ],
   "source": [
    "# teacher\n",
    "import numpy as np\n",
    "from ase.lattice.hexagonal import Graphite\n",
    "\n",
    "ccdist = 1.40\n",
    "layerdist = 3.33\n",
    "a = ccdist * np.sqrt(3)\n",
    "c = 2 * layerdist\n",
    "gra = Graphite('C', latticeconstant={'a': a, 'c': c})\n",
    "\n",
    "from gpaw import GPAW, PW\n",
    "\n",
    "xc = 'LDA'\n",
    "calc = GPAW(mode=PW(500), kpts=(10, 10, 6), xc=xc,\n",
    "            txt='graphite-{0}.log'.format(xc))\n",
    "\n",
    "gra.set_calculator(calc)  # Connect system and calculator\n",
    "from ase.constraints import StrainFilter\n",
    "from ase.optimize.bfgs import BFGS\n",
    "from ase.io import Trajectory\n",
    "\n",
    "sf = StrainFilter(gra, mask=[1, 1, 1, 0, 0, 0])\n",
    "opt = BFGS(sf)\n",
    "traj = Trajectory('graphite-{0}.traj'.format(xc), 'w', gra)\n",
    "opt.attach(traj)\n",
    "opt.run(fmax=0.01)\n"
   ]
  },
  {
   "cell_type": "markdown",
   "metadata": {
    "ein.tags": "worksheet-0",
    "slideshow": {
     "slide_type": "-"
    }
   },
   "source": [
    "The following cell submits a calculation. The submit function takes two parameters; a name for the calculation and a magic variable starting with \"_i\" and then the number of the cell that contains the standalone script. The function will create a folder with the supplied name. All output from the calculation will be placed in that folder."
   ]
  },
  {
   "cell_type": "code",
   "execution_count": 2,
   "metadata": {
    "autoscroll": false,
    "collapsed": false,
    "ein.hycell": false,
    "ein.tags": "worksheet-0",
    "slideshow": {
     "slide_type": "-"
    }
   },
   "outputs": [
    {
     "name": "stdout",
     "output_type": "stream",
     "text": [
      "The calculation \"graphite\" was submitted with the job ID: 6262766\n"
     ]
    }
   ],
   "source": [
    "%load_ext autoreload\n",
    "\n",
    "%autoreload 2\n",
    "\n",
    "from submit_functions import submit\n",
    "submit('graphite', _i1)  # 1 is the number of the cell with the calculation script"
   ]
  },
  {
   "cell_type": "markdown",
   "metadata": {
    "ein.tags": "worksheet-0",
    "slideshow": {
     "slide_type": "-"
    }
   },
   "source": [
    "Check the status of the calculation by supplying the job ID (get the job ID from the output of the submit command). The column with `S` heading gives you a character code of the status: `Q`: still in queue, `R`: running, `C`: finished."
   ]
  },
  {
   "cell_type": "code",
   "execution_count": null,
   "metadata": {
    "autoscroll": false,
    "collapsed": false,
    "ein.hycell": false,
    "ein.tags": "worksheet-0",
    "slideshow": {
     "slide_type": "-"
    }
   },
   "outputs": [],
   "source": [
    "from submit_functions import check_status\n",
    "check_status(123456)  # 123456 is the job ID from the output of the submit command\n"
   ]
  },
  {
   "cell_type": "markdown",
   "metadata": {
    "ein.tags": "worksheet-0",
    "slideshow": {
     "slide_type": "-"
    }
   },
   "source": [
    "When the calculation finishes the result can be interpreted by [reading](https://wiki.fysik.dtu.dk/ase/ase/io/io.html#ase.io.read) in the Atoms object. This assumes that the name `graphite` was supplied when submitting and the trajectory file is called: `graphite-LDA.traj`, if not change accordingly."
   ]
  },
  {
   "cell_type": "code",
   "execution_count": null,
   "metadata": {
    "autoscroll": false,
    "collapsed": false,
    "ein.hycell": false,
    "ein.tags": "worksheet-0",
    "slideshow": {
     "slide_type": "-"
    }
   },
   "outputs": [],
   "source": [
    "from ase.io import read\n",
    "\n",
    "# The full relaxation\n",
    "relaxation = read('graphite/graphite-LDA.traj', index=':')\n",
    "# The final image of the relaxation containing the relevant energy\n",
    "atoms = read('graphite/graphite-LDA.traj')"
   ]
  },
  {
   "cell_type": "code",
   "execution_count": null,
   "metadata": {
    "autoscroll": false,
    "collapsed": false,
    "ein.hycell": false,
    "ein.tags": "worksheet-0",
    "slideshow": {
     "slide_type": "-"
    }
   },
   "outputs": [],
   "source": [
    "# Extract the relevant information from the calculation\n",
    "# Energy\n",
    "print(atoms.get_potential_energy())\n",
    "# Unit cell\n",
    "print(atoms.get_cell())\n",
    "# See the steps of the optimization\n",
    "from ase.visualize import view\n",
    "view(relaxation)"
   ]
  },
  {
   "cell_type": "markdown",
   "metadata": {
    "ein.tags": "worksheet-0",
    "slideshow": {
     "slide_type": "-"
    }
   },
   "source": [
    "<a id='limetal'></a>\n",
    "## Li metal"
   ]
  },
  {
   "cell_type": "markdown",
   "metadata": {
    "ein.tags": "worksheet-0",
    "slideshow": {
     "slide_type": "-"
    }
   },
   "source": [
    "![Li metal](Li2.png)\n",
    "\n",
    "Now we need to calculate the energy of Li metal. We will use the same strategy as for graphite, this time though you will have to do most of the work.\n",
    "\n",
    "Some hints:\n",
    "1. The crystal structure of Li metal is shown in the image above. That structure is easily created with one of the functions in [ase.lattice](https://wiki.fysik.dtu.dk/ase/ase/lattice.html#available-crystal-lattices)\n",
    "2. A k-point density of approximately 2.4 points / Angstrom will be sufficient\n",
    "3. Use a FermiDirac occupation (TEST THIS or just give a GPAW object)\n",
    "\n",
    "In the end try to compare the different functionals with experimental values:\n",
    "\n",
    "|             | Experimental values | LDA | PBE | BEEF-vdW |\n",
    "|-------------|---------------------|-----|-----|----------|\n",
    "| a / Å       |                3.51 |     |     |          |\n",
    "\n"
   ]
  },
  {
   "cell_type": "code",
   "execution_count": 14,
   "metadata": {
    "autoscroll": false,
    "collapsed": false,
    "ein.hycell": false,
    "ein.tags": "worksheet-0",
    "slideshow": {
     "slide_type": "-"
    }
   },
   "outputs": [
    {
     "name": "stdout",
     "output_type": "stream",
     "text": [
      "      Step     Time          Energy         fmax\n",
      "BFGS:    0 13:38:58       -3.764298        0.8537\n",
      "BFGS:    1 13:39:15       -3.773624        0.7020\n",
      "BFGS:    2 13:39:32       -3.791540        0.2397\n",
      "BFGS:    3 13:39:47       -3.793876        0.0200\n",
      "BFGS:    4 13:40:03       -3.793872        0.0006\n"
     ]
    },
    {
     "data": {
      "text/plain": [
       "True"
      ]
     },
     "execution_count": 14,
     "metadata": {},
     "output_type": "execute_result"
    }
   ],
   "source": [
    "# teacher\n",
    "\n",
    "from ase import Atoms\n",
    "from gpaw import GPAW, FermiDirac, PW\n",
    "from ase.optimize import QuasiNewton\n",
    "from ase.lattice.cubic import BodyCenteredCubic\n",
    "from ase.constraints import StrainFilter\n",
    "\n",
    "# This script will optimize lattice constant of metallic lithium\n",
    "\n",
    "xc = 'LDA'  # xc-functional. Change to 'PBE' or 'BEEF-vdw' to run with other functionals\n",
    "Li_metal = BodyCenteredCubic(symbol='Li', latticeconstant=3.3)\n",
    "\n",
    "calc = GPAW(mode=PW(500),\n",
    "            kpts=(8, 8, 8),\n",
    "            occupations=FermiDirac(0.15),\n",
    "            nbands=-10,\n",
    "            txt='Li-metal-{0}.log'.format(xc),\n",
    "            xc=xc)\n",
    "\n",
    "Li_metal.set_calculator(calc)\n",
    "\n",
    "sf = StrainFilter(Li_metal, mask=[1, 1, 1, 0, 0, 0])\n",
    "opt = BFGS(sf)\n",
    "opt.run(fmax=0.01)\n",
    "\n"
   ]
  },
  {
   "cell_type": "markdown",
   "metadata": {
    "ein.tags": "worksheet-0",
    "slideshow": {
     "slide_type": "-"
    }
   },
   "source": [
    "<a id='liintercalation'></a>\n",
    "## Li intercalation in graphite"
   ]
  },
  {
   "cell_type": "markdown",
   "metadata": {
    "ein.tags": "worksheet-0",
    "slideshow": {
     "slide_type": "-"
    }
   },
   "source": [
    "![Li intercalated in graphite](C144Li18.png)\n",
    "\n",
    "Now we will calculate the intercalation of Li in graphite. For simplicity we will represent the graphite with only one layer. Also try and compare the C-C and interlayer distances to experimental values.\n",
    "\n",
    "|                         | Experimental values | LDA | PBE | BEEF-vdW |\n",
    "|-------------------------|---------------------|-----|-----|----------|\n",
    "| C-C  distance / Å       |               1.441 |     |     |          |\n",
    "| Interlayer distance / Å |               3.706 |     |     |          |\n"
   ]
  },
  {
   "cell_type": "code",
   "execution_count": null,
   "metadata": {
    "autoscroll": false,
    "collapsed": false,
    "ein.hycell": false,
    "ein.tags": "worksheet-0",
    "slideshow": {
     "slide_type": "-"
    }
   },
   "outputs": [],
   "source": [
    "from ase.lattice.hexagonal import Graphene\n",
    "\n",
    "ccdist = 1.40\n",
    "layerdist = 3.7\n",
    "\n",
    "a = ccdist * np.sqrt(3)\n",
    "c = layerdist\n",
    "\n",
    "# We will require a larger cell, to accomodate the Li\n",
    "Li_gra = Graphene('C', size=(2, 2, 1), latticeconstant={'a': a, 'c': c})\n",
    "# Append an Li atom on top of the graphene layer\n",
    "Li_gra.append(Atom('Li', (a / 2, ccdist / 2, layerdist / 2)))\n"
   ]
  },
  {
   "cell_type": "code",
   "execution_count": null,
   "metadata": {
    "autoscroll": false,
    "collapsed": false,
    "ein.hycell": false,
    "ein.tags": "worksheet-0",
    "slideshow": {
     "slide_type": "-"
    }
   },
   "outputs": [],
   "source": [
    "# teacher\n",
    "\n",
    "from ase import Atoms\n",
    "from gpaw import GPAW, PW\n",
    "from ase import Atom\n",
    "from ase.optimize.bfgs import BFGS\n",
    "import numpy as np\n",
    "from ase.visualize import view\n",
    "from ase.lattice.hexagonal import Graphene\n",
    "\n",
    "ccdist = 1.40\n",
    "layerdist = 3.7\n",
    "\n",
    "a = ccdist * np.sqrt(3)\n",
    "c = layerdist\n",
    "\n",
    "# We will require a larger cell, to accomodate the Li\n",
    "Li_gra = Graphene('C', size=(2, 2, 1), latticeconstant={'a': a, 'c': c})\n",
    "Li_gra.append(Atom('Li', (a / 2, ccdist / 2, layerdist / 2)))\n",
    "\n",
    "calc = GPAW(mode=PW(500), kpts=(5, 5, 6), xc=xc, txt=None)\n",
    "\n",
    "Li_gra.set_calculator(calc)  # Connect system and calculator\n",
    "\n",
    "sf = StrainFilter(gra, mask=[1, 1, 1, 0, 0, 0])\n",
    "opt = BFGS(sf)\n",
    "opt.run(fmax=0.01)\n",
    "\n",
    "print(Li_gra.cell)"
   ]
  },
  {
   "cell_type": "code",
   "execution_count": null,
   "metadata": {
    "autoscroll": false,
    "collapsed": false,
    "ein.hycell": false,
    "ein.tags": "worksheet-0",
    "slideshow": {
     "slide_type": "-"
    }
   },
   "outputs": [],
   "source": [
    "# teacher\n",
    "from ase import Atoms\n",
    "from gpaw import GPAW, PW\n",
    "from ase import Atom\n",
    "from ase.optimize.bfgs import BFGS\n",
    "import numpy as np\n",
    "from ase.visualize import view\n",
    "from ase.lattice.hexagonal import Graphene\n",
    "from ase.constraints import StrainFilter\n",
    "\n",
    "ccdist = 1.40\n",
    "layerdist = 3.7\n",
    "\n",
    "a = ccdist * np.sqrt(3)\n",
    "c = layerdist\n",
    "Li_gra = Atoms('CCCCCCLi', positions=[(0, 0, 0), (0, ccdist, 0), (a, 0, 0),\n",
    "                                   (-a, 0, 0), (-a / 2, -ccdist / 2, 0),\n",
    "                                   (a / 2, -ccdist / 2, 0), (0, -ccdist, c / 2)],\n",
    "            cell=([1.5 * a, -1.5 * ccdist, 0],\n",
    "                  [1.5 * a, 1.5 * ccdist, 0],\n",
    "                  [0, 0, c]),\n",
    "            pbc=(1, 1, 1))\n",
    "calc = GPAW(mode=PW(500), kpts=(5, 5, 6), xc=xc, txt=None)\n",
    "\n",
    "Li_gra.set_calculator(calc)  # Connect system and calculator\n",
    "\n",
    "sf = StrainFilter(Li_gra, mask=[1, 1, 1, 0, 0, 0])\n",
    "opt = BFGS(sf)\n",
    "opt.run(fmax=0.01)\n"
   ]
  },
  {
   "cell_type": "markdown",
   "metadata": {
    "ein.tags": "worksheet-0",
    "slideshow": {
     "slide_type": "-"
    }
   },
   "source": [
    "Now calculate the intercalation energy of Li in graphite with the following formula:\n",
    "$$E_{Li@graphite} = E_{LiC_6} - (E_{Li(s)} + E_{C_6^{graphite}})$$\n",
    "Remember to adjust the energies so that the correct number of atoms is taken into account.\n",
    "\n",
    "These are the experimental values to compare with\n",
    "In the end try to compare the different functionals with experimental values:\n",
    "\n",
    "|                           | Experimental values | LDA | PBE | BEEF-vdW |\n",
    "|---------------------------|---------------------|-----|-----|----------|\n",
    "| Intercalation energy / eV |              -0.124 |     |     |          |\n"
   ]
  },
  {
   "cell_type": "code",
   "execution_count": null,
   "metadata": {
    "autoscroll": false,
    "collapsed": false,
    "ein.hycell": false,
    "ein.tags": "worksheet-0",
    "slideshow": {
     "slide_type": "-"
    }
   },
   "outputs": [],
   "source": [
    "# teacher\n",
    "e_Li_gra = Li_gra.get_potential_energy()\n",
    "e_Li = Li_metal.get_potential_energy() / len(Li_metal)\n",
    "e_C6 = 6 * gra.get_potential_energy() / len(gra)\n",
    "intercalation_energy = e_Li_gra - (e_Li + e_C6)\n",
    "print('Intercalation energy: {0:.2f}eV'.format(intercalation_energy))"
   ]
  },
  {
   "cell_type": "markdown",
   "metadata": {
    "ein.tags": "worksheet-0",
    "slideshow": {
     "slide_type": "-"
    }
   },
   "source": [
    "Great job! When you have made it this far it is time to turn your attention to the cathode."
   ]
  }
 ],
 "metadata": {
  "kernelspec": {
   "display_name": "Python 3",
   "name": "python3"
  },
  "language_info": {
   "codemirror_mode": {
    "name": "ipython",
    "version": 3
   },
   "file_extension": ".py",
   "mimetype": "text/x-python",
   "name": "python",
   "nbconvert_exporter": "python",
   "pygments_lexer": "ipython3",
   "version": "3.6.0"
  },
  "name": "Battery_Day2_teacher.ipynb"
 },
 "nbformat": 4,
 "nbformat_minor": 2
}
